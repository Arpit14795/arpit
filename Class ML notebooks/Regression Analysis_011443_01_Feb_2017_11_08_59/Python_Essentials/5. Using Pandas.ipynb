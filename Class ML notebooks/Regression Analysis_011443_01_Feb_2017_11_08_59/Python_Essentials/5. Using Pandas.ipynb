{
 "cells": [
  {
   "cell_type": "markdown",
   "metadata": {},
   "source": [
    "# Using Pandas"
   ]
  },
  {
   "cell_type": "markdown",
   "metadata": {},
   "source": [
    "Pandas is powerful and easy-to-use library for data analysis. Is has two main object to represents data: \n",
    "\n",
    "- Series\n",
    "- DataFrame\n"
   ]
  },
  {
   "cell_type": "markdown",
   "metadata": {},
   "source": [
    "# Import libraries"
   ]
  },
  {
   "cell_type": "code",
   "execution_count": 1,
   "metadata": {
    "collapsed": false
   },
   "outputs": [],
   "source": [
    "import numpy as np\n",
    "import matplotlib.pyplot as plt\n",
    "import pandas as pd"
   ]
  },
  {
   "cell_type": "code",
   "execution_count": 2,
   "metadata": {
    "collapsed": true
   },
   "outputs": [],
   "source": [
    "%matplotlib inline"
   ]
  },
  {
   "cell_type": "markdown",
   "metadata": {},
   "source": [
    "# Working with Series"
   ]
  },
  {
   "cell_type": "markdown",
   "metadata": {},
   "source": [
    "Series is an array like object."
   ]
  },
  {
   "cell_type": "code",
   "execution_count": null,
   "metadata": {
    "collapsed": false
   },
   "outputs": [],
   "source": [
    "x = pd.Series([1,2,3,4,5])\n",
    "x"
   ]
  },
  {
   "cell_type": "markdown",
   "metadata": {},
   "source": [
    "Notice that generated index for your item"
   ]
  },
  {
   "cell_type": "markdown",
   "metadata": {},
   "source": [
    "## Basic Operation"
   ]
  },
  {
   "cell_type": "code",
   "execution_count": null,
   "metadata": {
    "collapsed": false
   },
   "outputs": [],
   "source": [
    "x + 100\n"
   ]
  },
  {
   "cell_type": "code",
   "execution_count": null,
   "metadata": {
    "collapsed": false
   },
   "outputs": [],
   "source": [
    "(x ** 2) + 100"
   ]
  },
  {
   "cell_type": "code",
   "execution_count": null,
   "metadata": {
    "collapsed": false
   },
   "outputs": [],
   "source": [
    "x > 2"
   ]
  },
  {
   "cell_type": "markdown",
   "metadata": {},
   "source": [
    "## `any()` and `all()`"
   ]
  },
  {
   "cell_type": "code",
   "execution_count": null,
   "metadata": {
    "collapsed": false
   },
   "outputs": [],
   "source": [
    "larger_than_2 = x > 2\n",
    "larger_than_2"
   ]
  },
  {
   "cell_type": "code",
   "execution_count": null,
   "metadata": {
    "collapsed": false
   },
   "outputs": [],
   "source": [
    "larger_than_2.any()"
   ]
  },
  {
   "cell_type": "code",
   "execution_count": null,
   "metadata": {
    "collapsed": false
   },
   "outputs": [],
   "source": [
    "larger_than_2.all()"
   ]
  },
  {
   "cell_type": "markdown",
   "metadata": {},
   "source": [
    "## `apply()`"
   ]
  },
  {
   "cell_type": "code",
   "execution_count": null,
   "metadata": {
    "collapsed": false
   },
   "outputs": [],
   "source": [
    "def f(x):\n",
    "    if x % 2 == 0:\n",
    "        return x * 2\n",
    "    else:\n",
    "        return x * 3\n",
    "\n",
    "x.apply(f)"
   ]
  },
  {
   "cell_type": "markdown",
   "metadata": {},
   "source": [
    "**Avoid looping over your data**\n",
    "\n",
    "This is a `%%timeit` results from `apply()` and a for loop."
   ]
  },
  {
   "cell_type": "code",
   "execution_count": null,
   "metadata": {
    "collapsed": false
   },
   "outputs": [],
   "source": [
    "%%timeit\n",
    "ds = pd.Series(range(10000))\n",
    "\n",
    "for counter in range(len(ds)):\n",
    "    ds[counter] = f(ds[counter])"
   ]
  },
  {
   "cell_type": "code",
   "execution_count": null,
   "metadata": {
    "collapsed": false
   },
   "outputs": [],
   "source": [
    "%%timeit\n",
    "\n",
    "ds = pd.Series(range(10000))\n",
    "\n",
    "ds = ds.apply(f)"
   ]
  },
  {
   "cell_type": "markdown",
   "metadata": {},
   "source": [
    "## `copy()`"
   ]
  },
  {
   "cell_type": "code",
   "execution_count": null,
   "metadata": {
    "collapsed": false
   },
   "outputs": [],
   "source": [
    "y = x"
   ]
  },
  {
   "cell_type": "code",
   "execution_count": null,
   "metadata": {
    "collapsed": false
   },
   "outputs": [],
   "source": [
    "y[0]"
   ]
  },
  {
   "cell_type": "code",
   "execution_count": null,
   "metadata": {
    "collapsed": false
   },
   "outputs": [],
   "source": [
    "y[0] = 100"
   ]
  },
  {
   "cell_type": "code",
   "execution_count": null,
   "metadata": {
    "collapsed": false
   },
   "outputs": [],
   "source": [
    "y"
   ]
  },
  {
   "cell_type": "code",
   "execution_count": null,
   "metadata": {
    "collapsed": false
   },
   "outputs": [],
   "source": [
    "x"
   ]
  },
  {
   "cell_type": "markdown",
   "metadata": {},
   "source": [
    "# DataFrame"
   ]
  },
  {
   "cell_type": "code",
   "execution_count": null,
   "metadata": {
    "collapsed": false
   },
   "outputs": [],
   "source": [
    "data = [1,2,3,4,5,6,7,8,9]\n",
    "df = pd.DataFrame(data, columns=[\"x\"])"
   ]
  },
  {
   "cell_type": "code",
   "execution_count": null,
   "metadata": {
    "collapsed": false
   },
   "outputs": [],
   "source": [
    "df"
   ]
  },
  {
   "cell_type": "markdown",
   "metadata": {},
   "source": [
    "## Selecting Data"
   ]
  },
  {
   "cell_type": "code",
   "execution_count": null,
   "metadata": {
    "collapsed": false
   },
   "outputs": [],
   "source": [
    "df[\"x\"]"
   ]
  },
  {
   "cell_type": "code",
   "execution_count": null,
   "metadata": {
    "collapsed": false
   },
   "outputs": [],
   "source": [
    "df[\"x\"][0]"
   ]
  },
  {
   "cell_type": "markdown",
   "metadata": {},
   "source": [
    "## Adding extra columns"
   ]
  },
  {
   "cell_type": "code",
   "execution_count": null,
   "metadata": {
    "collapsed": false
   },
   "outputs": [],
   "source": [
    "df[\"x_plus_2\"] = df[\"x\"] + 2\n",
    "df"
   ]
  },
  {
   "cell_type": "code",
   "execution_count": null,
   "metadata": {
    "collapsed": false
   },
   "outputs": [],
   "source": [
    "df[\"x_square\"] = df[\"x\"] ** 2\n",
    "df[\"x_factorial\"] = df[\"x\"].apply(np.math.factorial)\n",
    "df"
   ]
  },
  {
   "cell_type": "code",
   "execution_count": null,
   "metadata": {
    "collapsed": false
   },
   "outputs": [],
   "source": [
    "df[\"is_even\"] = df[\"x\"] % 2\n",
    "df"
   ]
  },
  {
   "cell_type": "markdown",
   "metadata": {},
   "source": [
    "### `map()`"
   ]
  },
  {
   "cell_type": "code",
   "execution_count": null,
   "metadata": {
    "collapsed": false
   },
   "outputs": [],
   "source": [
    "df[\"odd_even\"] = df[\"is_even\"].map({1:\"odd\", 0:\"even\"})\n",
    "df"
   ]
  },
  {
   "cell_type": "markdown",
   "metadata": {},
   "source": [
    "### `drop()`"
   ]
  },
  {
   "cell_type": "code",
   "execution_count": null,
   "metadata": {
    "collapsed": false
   },
   "outputs": [],
   "source": [
    "df = df.drop(\"is_even\", 1)\n",
    "df"
   ]
  },
  {
   "cell_type": "markdown",
   "metadata": {},
   "source": [
    "## Multi Column Select"
   ]
  },
  {
   "cell_type": "code",
   "execution_count": null,
   "metadata": {
    "collapsed": false
   },
   "outputs": [],
   "source": [
    "df[[\"x\", \"odd_even\"]]"
   ]
  },
  {
   "cell_type": "markdown",
   "metadata": {},
   "source": [
    "## Controlling display options"
   ]
  },
  {
   "cell_type": "code",
   "execution_count": null,
   "metadata": {
    "collapsed": false
   },
   "outputs": [],
   "source": [
    "pd.options.display.max_columns= 60\n",
    "pd.options.display.max_rows= 6\n",
    "pd.options.display.notebook_repr_html = False\n",
    "df"
   ]
  },
  {
   "cell_type": "markdown",
   "metadata": {},
   "source": [
    "## Filtering"
   ]
  },
  {
   "cell_type": "code",
   "execution_count": null,
   "metadata": {
    "collapsed": false
   },
   "outputs": [],
   "source": [
    "df[df[\"odd_even\"] == \"odd\"]"
   ]
  },
  {
   "cell_type": "code",
   "execution_count": null,
   "metadata": {
    "collapsed": false
   },
   "outputs": [],
   "source": [
    "df[df.odd_even == \"even\"]"
   ]
  },
  {
   "cell_type": "markdown",
   "metadata": {},
   "source": [
    "### Chaining Filters"
   ]
  },
  {
   "cell_type": "markdown",
   "metadata": {},
   "source": [
    "#### `|` OR"
   ]
  },
  {
   "cell_type": "code",
   "execution_count": null,
   "metadata": {
    "collapsed": false
   },
   "outputs": [],
   "source": [
    "df[(df.odd_even == \"even\") | (df.x_square < 20)]"
   ]
  },
  {
   "cell_type": "markdown",
   "metadata": {},
   "source": [
    "#### `&` AND"
   ]
  },
  {
   "cell_type": "code",
   "execution_count": null,
   "metadata": {
    "collapsed": false
   },
   "outputs": [],
   "source": [
    "df[(df.odd_even == \"even\") & (df.x_square < 20)]"
   ]
  },
  {
   "cell_type": "markdown",
   "metadata": {},
   "source": [
    "# `scatter_matrix()`"
   ]
  },
  {
   "cell_type": "code",
   "execution_count": null,
   "metadata": {
    "collapsed": false
   },
   "outputs": [],
   "source": [
    "pd.scatter_matrix(df,diagonal=\"kde\",figsize=(10,10));"
   ]
  },
  {
   "cell_type": "code",
   "execution_count": null,
   "metadata": {
    "collapsed": false
   },
   "outputs": [],
   "source": [
    "df.describe()"
   ]
  },
  {
   "cell_type": "markdown",
   "metadata": {},
   "source": [
    "# Reading Data from CSV/TSV Files"
   ]
  },
  {
   "cell_type": "code",
   "execution_count": 3,
   "metadata": {
    "collapsed": false
   },
   "outputs": [],
   "source": [
    "#url = \"http://www.google.com/finance/historical?q=TADAWUL:TASI&output=csv\"\n",
    "#stocks_data = pd.read_csv(url)\n",
    "\n",
    "stocks_data = pd.read_csv('./Datasets/stocks.csv')"
   ]
  },
  {
   "cell_type": "code",
   "execution_count": 4,
   "metadata": {
    "collapsed": false
   },
   "outputs": [
    {
     "data": {
      "text/html": [
       "<div>\n",
       "<table border=\"1\" class=\"dataframe\">\n",
       "  <thead>\n",
       "    <tr style=\"text-align: right;\">\n",
       "      <th></th>\n",
       "      <th>﻿Date</th>\n",
       "      <th>Open</th>\n",
       "      <th>High</th>\n",
       "      <th>Low</th>\n",
       "      <th>Close</th>\n",
       "      <th>Volume</th>\n",
       "    </tr>\n",
       "  </thead>\n",
       "  <tbody>\n",
       "    <tr>\n",
       "      <th>0</th>\n",
       "      <td>21-Jul-16</td>\n",
       "      <td>6630.61</td>\n",
       "      <td>6648.10</td>\n",
       "      <td>6597.88</td>\n",
       "      <td>6601.00</td>\n",
       "      <td>183874848</td>\n",
       "    </tr>\n",
       "    <tr>\n",
       "      <th>1</th>\n",
       "      <td>20-Jul-16</td>\n",
       "      <td>6646.86</td>\n",
       "      <td>6655.54</td>\n",
       "      <td>6622.36</td>\n",
       "      <td>6630.61</td>\n",
       "      <td>166216847</td>\n",
       "    </tr>\n",
       "    <tr>\n",
       "      <th>2</th>\n",
       "      <td>19-Jul-16</td>\n",
       "      <td>6681.97</td>\n",
       "      <td>6686.63</td>\n",
       "      <td>6635.99</td>\n",
       "      <td>6646.86</td>\n",
       "      <td>180509004</td>\n",
       "    </tr>\n",
       "    <tr>\n",
       "      <th>3</th>\n",
       "      <td>18-Jul-16</td>\n",
       "      <td>6680.79</td>\n",
       "      <td>6702.99</td>\n",
       "      <td>6658.04</td>\n",
       "      <td>6681.97</td>\n",
       "      <td>206421139</td>\n",
       "    </tr>\n",
       "    <tr>\n",
       "      <th>4</th>\n",
       "      <td>17-Jul-16</td>\n",
       "      <td>6661.65</td>\n",
       "      <td>6698.13</td>\n",
       "      <td>6661.65</td>\n",
       "      <td>6680.79</td>\n",
       "      <td>173648935</td>\n",
       "    </tr>\n",
       "    <tr>\n",
       "      <th>5</th>\n",
       "      <td>14-Jul-16</td>\n",
       "      <td>6691.23</td>\n",
       "      <td>6698.88</td>\n",
       "      <td>6653.64</td>\n",
       "      <td>6661.65</td>\n",
       "      <td>259311234</td>\n",
       "    </tr>\n",
       "    <tr>\n",
       "      <th>6</th>\n",
       "      <td>13-Jul-16</td>\n",
       "      <td>6625.78</td>\n",
       "      <td>6694.05</td>\n",
       "      <td>6624.03</td>\n",
       "      <td>6691.23</td>\n",
       "      <td>308953769</td>\n",
       "    </tr>\n",
       "    <tr>\n",
       "      <th>7</th>\n",
       "      <td>12-Jul-16</td>\n",
       "      <td>6570.34</td>\n",
       "      <td>6627.04</td>\n",
       "      <td>6570.34</td>\n",
       "      <td>6625.78</td>\n",
       "      <td>252310156</td>\n",
       "    </tr>\n",
       "    <tr>\n",
       "      <th>8</th>\n",
       "      <td>11-Jul-16</td>\n",
       "      <td>6555.87</td>\n",
       "      <td>6584.70</td>\n",
       "      <td>6546.41</td>\n",
       "      <td>6570.34</td>\n",
       "      <td>241224883</td>\n",
       "    </tr>\n",
       "    <tr>\n",
       "      <th>9</th>\n",
       "      <td>10-Jul-16</td>\n",
       "      <td>6499.88</td>\n",
       "      <td>6556.31</td>\n",
       "      <td>6494.47</td>\n",
       "      <td>6555.87</td>\n",
       "      <td>242408432</td>\n",
       "    </tr>\n",
       "    <tr>\n",
       "      <th>10</th>\n",
       "      <td>30-Jun-16</td>\n",
       "      <td>6500.42</td>\n",
       "      <td>6528.69</td>\n",
       "      <td>6499.77</td>\n",
       "      <td>6499.88</td>\n",
       "      <td>233316132</td>\n",
       "    </tr>\n",
       "    <tr>\n",
       "      <th>11</th>\n",
       "      <td>29-Jun-16</td>\n",
       "      <td>6480.32</td>\n",
       "      <td>6525.36</td>\n",
       "      <td>6480.33</td>\n",
       "      <td>6500.42</td>\n",
       "      <td>234230669</td>\n",
       "    </tr>\n",
       "    <tr>\n",
       "      <th>12</th>\n",
       "      <td>28-Jun-16</td>\n",
       "      <td>6464.84</td>\n",
       "      <td>6495.60</td>\n",
       "      <td>6457.00</td>\n",
       "      <td>6480.32</td>\n",
       "      <td>285790684</td>\n",
       "    </tr>\n",
       "    <tr>\n",
       "      <th>13</th>\n",
       "      <td>27-Jun-16</td>\n",
       "      <td>6478.60</td>\n",
       "      <td>6550.20</td>\n",
       "      <td>6461.32</td>\n",
       "      <td>6464.84</td>\n",
       "      <td>236554105</td>\n",
       "    </tr>\n",
       "    <tr>\n",
       "      <th>14</th>\n",
       "      <td>26-Jun-16</td>\n",
       "      <td>6550.97</td>\n",
       "      <td>6547.74</td>\n",
       "      <td>6256.68</td>\n",
       "      <td>6478.60</td>\n",
       "      <td>332657358</td>\n",
       "    </tr>\n",
       "    <tr>\n",
       "      <th>15</th>\n",
       "      <td>23-Jun-16</td>\n",
       "      <td>6532.42</td>\n",
       "      <td>6554.19</td>\n",
       "      <td>6521.30</td>\n",
       "      <td>6550.97</td>\n",
       "      <td>199178774</td>\n",
       "    </tr>\n",
       "    <tr>\n",
       "      <th>16</th>\n",
       "      <td>22-Jun-16</td>\n",
       "      <td>6553.01</td>\n",
       "      <td>6585.61</td>\n",
       "      <td>6531.79</td>\n",
       "      <td>6532.42</td>\n",
       "      <td>158116439</td>\n",
       "    </tr>\n",
       "    <tr>\n",
       "      <th>17</th>\n",
       "      <td>21-Jun-16</td>\n",
       "      <td>6558.92</td>\n",
       "      <td>6584.97</td>\n",
       "      <td>6549.70</td>\n",
       "      <td>6553.01</td>\n",
       "      <td>146333736</td>\n",
       "    </tr>\n",
       "    <tr>\n",
       "      <th>18</th>\n",
       "      <td>20-Jun-16</td>\n",
       "      <td>6542.40</td>\n",
       "      <td>6572.74</td>\n",
       "      <td>6537.80</td>\n",
       "      <td>6558.92</td>\n",
       "      <td>150238728</td>\n",
       "    </tr>\n",
       "    <tr>\n",
       "      <th>19</th>\n",
       "      <td>19-Jun-16</td>\n",
       "      <td>6542.64</td>\n",
       "      <td>6591.69</td>\n",
       "      <td>6539.41</td>\n",
       "      <td>6542.40</td>\n",
       "      <td>171249760</td>\n",
       "    </tr>\n",
       "    <tr>\n",
       "      <th>20</th>\n",
       "      <td>16-Jun-16</td>\n",
       "      <td>6566.68</td>\n",
       "      <td>6572.71</td>\n",
       "      <td>6534.18</td>\n",
       "      <td>6542.64</td>\n",
       "      <td>179619196</td>\n",
       "    </tr>\n",
       "    <tr>\n",
       "      <th>21</th>\n",
       "      <td>15-Jun-16</td>\n",
       "      <td>6626.58</td>\n",
       "      <td>6647.17</td>\n",
       "      <td>6564.65</td>\n",
       "      <td>6566.68</td>\n",
       "      <td>265530174</td>\n",
       "    </tr>\n",
       "    <tr>\n",
       "      <th>22</th>\n",
       "      <td>14-Jun-16</td>\n",
       "      <td>6589.64</td>\n",
       "      <td>6626.58</td>\n",
       "      <td>6580.92</td>\n",
       "      <td>6626.58</td>\n",
       "      <td>234366648</td>\n",
       "    </tr>\n",
       "    <tr>\n",
       "      <th>23</th>\n",
       "      <td>13-Jun-16</td>\n",
       "      <td>6570.89</td>\n",
       "      <td>6596.07</td>\n",
       "      <td>6550.95</td>\n",
       "      <td>6589.64</td>\n",
       "      <td>212087930</td>\n",
       "    </tr>\n",
       "    <tr>\n",
       "      <th>24</th>\n",
       "      <td>12-Jun-16</td>\n",
       "      <td>6606.92</td>\n",
       "      <td>6606.11</td>\n",
       "      <td>6553.24</td>\n",
       "      <td>6570.89</td>\n",
       "      <td>211522189</td>\n",
       "    </tr>\n",
       "    <tr>\n",
       "      <th>25</th>\n",
       "      <td>9-Jun-16</td>\n",
       "      <td>6604.96</td>\n",
       "      <td>6644.76</td>\n",
       "      <td>6587.58</td>\n",
       "      <td>6606.92</td>\n",
       "      <td>337758577</td>\n",
       "    </tr>\n",
       "    <tr>\n",
       "      <th>26</th>\n",
       "      <td>8-Jun-16</td>\n",
       "      <td>6533.42</td>\n",
       "      <td>6630.88</td>\n",
       "      <td>6530.89</td>\n",
       "      <td>6604.96</td>\n",
       "      <td>334852105</td>\n",
       "    </tr>\n",
       "    <tr>\n",
       "      <th>27</th>\n",
       "      <td>7-Jun-16</td>\n",
       "      <td>6477.07</td>\n",
       "      <td>6537.25</td>\n",
       "      <td>6476.69</td>\n",
       "      <td>6533.42</td>\n",
       "      <td>243903907</td>\n",
       "    </tr>\n",
       "    <tr>\n",
       "      <th>28</th>\n",
       "      <td>6-Jun-16</td>\n",
       "      <td>6413.02</td>\n",
       "      <td>6479.47</td>\n",
       "      <td>6396.47</td>\n",
       "      <td>6477.07</td>\n",
       "      <td>145772475</td>\n",
       "    </tr>\n",
       "    <tr>\n",
       "      <th>29</th>\n",
       "      <td>5-Jun-16</td>\n",
       "      <td>6488.79</td>\n",
       "      <td>6504.36</td>\n",
       "      <td>6409.51</td>\n",
       "      <td>6413.02</td>\n",
       "      <td>214183463</td>\n",
       "    </tr>\n",
       "    <tr>\n",
       "      <th>...</th>\n",
       "      <td>...</td>\n",
       "      <td>...</td>\n",
       "      <td>...</td>\n",
       "      <td>...</td>\n",
       "      <td>...</td>\n",
       "      <td>...</td>\n",
       "    </tr>\n",
       "    <tr>\n",
       "      <th>220</th>\n",
       "      <td>3-Sep-15</td>\n",
       "      <td>7367.55</td>\n",
       "      <td>7459.52</td>\n",
       "      <td>7367.55</td>\n",
       "      <td>7383.86</td>\n",
       "      <td>173992565</td>\n",
       "    </tr>\n",
       "    <tr>\n",
       "      <th>221</th>\n",
       "      <td>2-Sep-15</td>\n",
       "      <td>7438.43</td>\n",
       "      <td>7438.43</td>\n",
       "      <td>7227.83</td>\n",
       "      <td>7367.55</td>\n",
       "      <td>205141939</td>\n",
       "    </tr>\n",
       "    <tr>\n",
       "      <th>222</th>\n",
       "      <td>1-Sep-15</td>\n",
       "      <td>7522.47</td>\n",
       "      <td>7601.84</td>\n",
       "      <td>7435.31</td>\n",
       "      <td>7438.43</td>\n",
       "      <td>217422990</td>\n",
       "    </tr>\n",
       "    <tr>\n",
       "      <th>223</th>\n",
       "      <td>31-Aug-15</td>\n",
       "      <td>7690.40</td>\n",
       "      <td>7690.40</td>\n",
       "      <td>7492.66</td>\n",
       "      <td>7522.47</td>\n",
       "      <td>181825003</td>\n",
       "    </tr>\n",
       "    <tr>\n",
       "      <th>224</th>\n",
       "      <td>30-Aug-15</td>\n",
       "      <td>7604.32</td>\n",
       "      <td>7953.43</td>\n",
       "      <td>7604.32</td>\n",
       "      <td>7690.40</td>\n",
       "      <td>265316702</td>\n",
       "    </tr>\n",
       "    <tr>\n",
       "      <th>225</th>\n",
       "      <td>27-Aug-15</td>\n",
       "      <td>7384.46</td>\n",
       "      <td>7762.96</td>\n",
       "      <td>7384.46</td>\n",
       "      <td>7604.32</td>\n",
       "      <td>336177465</td>\n",
       "    </tr>\n",
       "    <tr>\n",
       "      <th>226</th>\n",
       "      <td>26-Aug-15</td>\n",
       "      <td>7543.05</td>\n",
       "      <td>7573.95</td>\n",
       "      <td>7361.45</td>\n",
       "      <td>7384.46</td>\n",
       "      <td>347736367</td>\n",
       "    </tr>\n",
       "    <tr>\n",
       "      <th>227</th>\n",
       "      <td>25-Aug-15</td>\n",
       "      <td>7024.60</td>\n",
       "      <td>7562.81</td>\n",
       "      <td>7014.08</td>\n",
       "      <td>7543.05</td>\n",
       "      <td>558704184</td>\n",
       "    </tr>\n",
       "    <tr>\n",
       "      <th>228</th>\n",
       "      <td>24-Aug-15</td>\n",
       "      <td>7463.32</td>\n",
       "      <td>7476.74</td>\n",
       "      <td>6920.96</td>\n",
       "      <td>7024.60</td>\n",
       "      <td>355775528</td>\n",
       "    </tr>\n",
       "    <tr>\n",
       "      <th>229</th>\n",
       "      <td>23-Aug-15</td>\n",
       "      <td>8012.83</td>\n",
       "      <td>8012.83</td>\n",
       "      <td>7439.52</td>\n",
       "      <td>7463.32</td>\n",
       "      <td>274195864</td>\n",
       "    </tr>\n",
       "    <tr>\n",
       "      <th>230</th>\n",
       "      <td>20-Aug-15</td>\n",
       "      <td>7991.28</td>\n",
       "      <td>8015.22</td>\n",
       "      <td>7712.63</td>\n",
       "      <td>8012.83</td>\n",
       "      <td>275755916</td>\n",
       "    </tr>\n",
       "    <tr>\n",
       "      <th>231</th>\n",
       "      <td>19-Aug-15</td>\n",
       "      <td>8197.02</td>\n",
       "      <td>8258.49</td>\n",
       "      <td>7975.94</td>\n",
       "      <td>7991.28</td>\n",
       "      <td>199652233</td>\n",
       "    </tr>\n",
       "    <tr>\n",
       "      <th>232</th>\n",
       "      <td>18-Aug-15</td>\n",
       "      <td>8437.26</td>\n",
       "      <td>8443.73</td>\n",
       "      <td>8046.37</td>\n",
       "      <td>8197.02</td>\n",
       "      <td>195273608</td>\n",
       "    </tr>\n",
       "    <tr>\n",
       "      <th>233</th>\n",
       "      <td>17-Aug-15</td>\n",
       "      <td>8464.06</td>\n",
       "      <td>8496.89</td>\n",
       "      <td>8380.57</td>\n",
       "      <td>8437.26</td>\n",
       "      <td>151801836</td>\n",
       "    </tr>\n",
       "    <tr>\n",
       "      <th>234</th>\n",
       "      <td>16-Aug-15</td>\n",
       "      <td>8683.74</td>\n",
       "      <td>8712.74</td>\n",
       "      <td>8418.91</td>\n",
       "      <td>8464.06</td>\n",
       "      <td>148232729</td>\n",
       "    </tr>\n",
       "    <tr>\n",
       "      <th>235</th>\n",
       "      <td>13-Aug-15</td>\n",
       "      <td>8708.31</td>\n",
       "      <td>8757.31</td>\n",
       "      <td>8678.16</td>\n",
       "      <td>8683.74</td>\n",
       "      <td>91431753</td>\n",
       "    </tr>\n",
       "    <tr>\n",
       "      <th>236</th>\n",
       "      <td>12-Aug-15</td>\n",
       "      <td>8758.07</td>\n",
       "      <td>8758.07</td>\n",
       "      <td>8606.60</td>\n",
       "      <td>8708.31</td>\n",
       "      <td>112905537</td>\n",
       "    </tr>\n",
       "    <tr>\n",
       "      <th>237</th>\n",
       "      <td>11-Aug-15</td>\n",
       "      <td>8834.82</td>\n",
       "      <td>8865.60</td>\n",
       "      <td>8749.25</td>\n",
       "      <td>8758.07</td>\n",
       "      <td>121204097</td>\n",
       "    </tr>\n",
       "    <tr>\n",
       "      <th>238</th>\n",
       "      <td>10-Aug-15</td>\n",
       "      <td>8699.17</td>\n",
       "      <td>8839.21</td>\n",
       "      <td>8699.17</td>\n",
       "      <td>8834.82</td>\n",
       "      <td>136968178</td>\n",
       "    </tr>\n",
       "    <tr>\n",
       "      <th>239</th>\n",
       "      <td>9-Aug-15</td>\n",
       "      <td>8654.64</td>\n",
       "      <td>8707.77</td>\n",
       "      <td>8561.46</td>\n",
       "      <td>8699.17</td>\n",
       "      <td>102818444</td>\n",
       "    </tr>\n",
       "    <tr>\n",
       "      <th>240</th>\n",
       "      <td>6-Aug-15</td>\n",
       "      <td>8790.77</td>\n",
       "      <td>8790.77</td>\n",
       "      <td>8617.45</td>\n",
       "      <td>8654.64</td>\n",
       "      <td>124864940</td>\n",
       "    </tr>\n",
       "    <tr>\n",
       "      <th>241</th>\n",
       "      <td>5-Aug-15</td>\n",
       "      <td>8769.47</td>\n",
       "      <td>8824.95</td>\n",
       "      <td>8769.47</td>\n",
       "      <td>8790.77</td>\n",
       "      <td>98757758</td>\n",
       "    </tr>\n",
       "    <tr>\n",
       "      <th>242</th>\n",
       "      <td>4-Aug-15</td>\n",
       "      <td>8820.65</td>\n",
       "      <td>8820.65</td>\n",
       "      <td>8701.57</td>\n",
       "      <td>8769.47</td>\n",
       "      <td>144472966</td>\n",
       "    </tr>\n",
       "    <tr>\n",
       "      <th>243</th>\n",
       "      <td>3-Aug-15</td>\n",
       "      <td>8807.24</td>\n",
       "      <td>8820.65</td>\n",
       "      <td>8744.22</td>\n",
       "      <td>8820.65</td>\n",
       "      <td>176941903</td>\n",
       "    </tr>\n",
       "    <tr>\n",
       "      <th>244</th>\n",
       "      <td>2-Aug-15</td>\n",
       "      <td>9098.27</td>\n",
       "      <td>9101.08</td>\n",
       "      <td>8768.35</td>\n",
       "      <td>8807.24</td>\n",
       "      <td>169454680</td>\n",
       "    </tr>\n",
       "    <tr>\n",
       "      <th>245</th>\n",
       "      <td>30-Jul-15</td>\n",
       "      <td>9107.39</td>\n",
       "      <td>9133.60</td>\n",
       "      <td>9081.65</td>\n",
       "      <td>9098.27</td>\n",
       "      <td>135826066</td>\n",
       "    </tr>\n",
       "    <tr>\n",
       "      <th>246</th>\n",
       "      <td>29-Jul-15</td>\n",
       "      <td>9090.84</td>\n",
       "      <td>9141.89</td>\n",
       "      <td>9090.84</td>\n",
       "      <td>9107.39</td>\n",
       "      <td>112868058</td>\n",
       "    </tr>\n",
       "    <tr>\n",
       "      <th>247</th>\n",
       "      <td>28-Jul-15</td>\n",
       "      <td>9080.02</td>\n",
       "      <td>9106.97</td>\n",
       "      <td>9056.99</td>\n",
       "      <td>9090.84</td>\n",
       "      <td>103553161</td>\n",
       "    </tr>\n",
       "    <tr>\n",
       "      <th>248</th>\n",
       "      <td>27-Jul-15</td>\n",
       "      <td>9301.66</td>\n",
       "      <td>9301.66</td>\n",
       "      <td>9079.28</td>\n",
       "      <td>9080.02</td>\n",
       "      <td>142142299</td>\n",
       "    </tr>\n",
       "    <tr>\n",
       "      <th>249</th>\n",
       "      <td>26-Jul-15</td>\n",
       "      <td>9372.74</td>\n",
       "      <td>9411.93</td>\n",
       "      <td>9276.77</td>\n",
       "      <td>9301.66</td>\n",
       "      <td>132188773</td>\n",
       "    </tr>\n",
       "  </tbody>\n",
       "</table>\n",
       "<p>250 rows × 6 columns</p>\n",
       "</div>"
      ],
      "text/plain": [
       "         ﻿Date     Open     High      Low    Close     Volume\n",
       "0    21-Jul-16  6630.61  6648.10  6597.88  6601.00  183874848\n",
       "1    20-Jul-16  6646.86  6655.54  6622.36  6630.61  166216847\n",
       "2    19-Jul-16  6681.97  6686.63  6635.99  6646.86  180509004\n",
       "3    18-Jul-16  6680.79  6702.99  6658.04  6681.97  206421139\n",
       "4    17-Jul-16  6661.65  6698.13  6661.65  6680.79  173648935\n",
       "5    14-Jul-16  6691.23  6698.88  6653.64  6661.65  259311234\n",
       "6    13-Jul-16  6625.78  6694.05  6624.03  6691.23  308953769\n",
       "7    12-Jul-16  6570.34  6627.04  6570.34  6625.78  252310156\n",
       "8    11-Jul-16  6555.87  6584.70  6546.41  6570.34  241224883\n",
       "9    10-Jul-16  6499.88  6556.31  6494.47  6555.87  242408432\n",
       "10   30-Jun-16  6500.42  6528.69  6499.77  6499.88  233316132\n",
       "11   29-Jun-16  6480.32  6525.36  6480.33  6500.42  234230669\n",
       "12   28-Jun-16  6464.84  6495.60  6457.00  6480.32  285790684\n",
       "13   27-Jun-16  6478.60  6550.20  6461.32  6464.84  236554105\n",
       "14   26-Jun-16  6550.97  6547.74  6256.68  6478.60  332657358\n",
       "15   23-Jun-16  6532.42  6554.19  6521.30  6550.97  199178774\n",
       "16   22-Jun-16  6553.01  6585.61  6531.79  6532.42  158116439\n",
       "17   21-Jun-16  6558.92  6584.97  6549.70  6553.01  146333736\n",
       "18   20-Jun-16  6542.40  6572.74  6537.80  6558.92  150238728\n",
       "19   19-Jun-16  6542.64  6591.69  6539.41  6542.40  171249760\n",
       "20   16-Jun-16  6566.68  6572.71  6534.18  6542.64  179619196\n",
       "21   15-Jun-16  6626.58  6647.17  6564.65  6566.68  265530174\n",
       "22   14-Jun-16  6589.64  6626.58  6580.92  6626.58  234366648\n",
       "23   13-Jun-16  6570.89  6596.07  6550.95  6589.64  212087930\n",
       "24   12-Jun-16  6606.92  6606.11  6553.24  6570.89  211522189\n",
       "25    9-Jun-16  6604.96  6644.76  6587.58  6606.92  337758577\n",
       "26    8-Jun-16  6533.42  6630.88  6530.89  6604.96  334852105\n",
       "27    7-Jun-16  6477.07  6537.25  6476.69  6533.42  243903907\n",
       "28    6-Jun-16  6413.02  6479.47  6396.47  6477.07  145772475\n",
       "29    5-Jun-16  6488.79  6504.36  6409.51  6413.02  214183463\n",
       "..         ...      ...      ...      ...      ...        ...\n",
       "220   3-Sep-15  7367.55  7459.52  7367.55  7383.86  173992565\n",
       "221   2-Sep-15  7438.43  7438.43  7227.83  7367.55  205141939\n",
       "222   1-Sep-15  7522.47  7601.84  7435.31  7438.43  217422990\n",
       "223  31-Aug-15  7690.40  7690.40  7492.66  7522.47  181825003\n",
       "224  30-Aug-15  7604.32  7953.43  7604.32  7690.40  265316702\n",
       "225  27-Aug-15  7384.46  7762.96  7384.46  7604.32  336177465\n",
       "226  26-Aug-15  7543.05  7573.95  7361.45  7384.46  347736367\n",
       "227  25-Aug-15  7024.60  7562.81  7014.08  7543.05  558704184\n",
       "228  24-Aug-15  7463.32  7476.74  6920.96  7024.60  355775528\n",
       "229  23-Aug-15  8012.83  8012.83  7439.52  7463.32  274195864\n",
       "230  20-Aug-15  7991.28  8015.22  7712.63  8012.83  275755916\n",
       "231  19-Aug-15  8197.02  8258.49  7975.94  7991.28  199652233\n",
       "232  18-Aug-15  8437.26  8443.73  8046.37  8197.02  195273608\n",
       "233  17-Aug-15  8464.06  8496.89  8380.57  8437.26  151801836\n",
       "234  16-Aug-15  8683.74  8712.74  8418.91  8464.06  148232729\n",
       "235  13-Aug-15  8708.31  8757.31  8678.16  8683.74   91431753\n",
       "236  12-Aug-15  8758.07  8758.07  8606.60  8708.31  112905537\n",
       "237  11-Aug-15  8834.82  8865.60  8749.25  8758.07  121204097\n",
       "238  10-Aug-15  8699.17  8839.21  8699.17  8834.82  136968178\n",
       "239   9-Aug-15  8654.64  8707.77  8561.46  8699.17  102818444\n",
       "240   6-Aug-15  8790.77  8790.77  8617.45  8654.64  124864940\n",
       "241   5-Aug-15  8769.47  8824.95  8769.47  8790.77   98757758\n",
       "242   4-Aug-15  8820.65  8820.65  8701.57  8769.47  144472966\n",
       "243   3-Aug-15  8807.24  8820.65  8744.22  8820.65  176941903\n",
       "244   2-Aug-15  9098.27  9101.08  8768.35  8807.24  169454680\n",
       "245  30-Jul-15  9107.39  9133.60  9081.65  9098.27  135826066\n",
       "246  29-Jul-15  9090.84  9141.89  9090.84  9107.39  112868058\n",
       "247  28-Jul-15  9080.02  9106.97  9056.99  9090.84  103553161\n",
       "248  27-Jul-15  9301.66  9301.66  9079.28  9080.02  142142299\n",
       "249  26-Jul-15  9372.74  9411.93  9276.77  9301.66  132188773\n",
       "\n",
       "[250 rows x 6 columns]"
      ]
     },
     "execution_count": 4,
     "metadata": {},
     "output_type": "execute_result"
    }
   ],
   "source": [
    "stocks_data"
   ]
  },
  {
   "cell_type": "code",
   "execution_count": null,
   "metadata": {
    "collapsed": false
   },
   "outputs": [],
   "source": [
    "stocks_data[\"change_amount\"] = stocks_data[\"Close\"] - stocks_data[\"Open\"]\n",
    "stocks_data[\"change_percentage\"] = stocks_data[\"change_amount\"] / stocks_data[\"Close\"]\n",
    "stocks_data"
   ]
  },
  {
   "cell_type": "code",
   "execution_count": null,
   "metadata": {
    "collapsed": true
   },
   "outputs": [],
   "source": []
  }
 ],
 "metadata": {
  "kernelspec": {
   "display_name": "Python 3",
   "language": "python",
   "name": "python3"
  },
  "language_info": {
   "codemirror_mode": {
    "name": "ipython",
    "version": 3
   },
   "file_extension": ".py",
   "mimetype": "text/x-python",
   "name": "python",
   "nbconvert_exporter": "python",
   "pygments_lexer": "ipython3",
   "version": "3.5.2"
  }
 },
 "nbformat": 4,
 "nbformat_minor": 0
}
